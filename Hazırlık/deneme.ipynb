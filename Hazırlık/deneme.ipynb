{
 "cells": [
  {
   "cell_type": "code",
   "execution_count": 1,
   "id": "35a8b405-34ef-4f6e-a7d6-b76078ecb545",
   "metadata": {},
   "outputs": [
    {
     "name": "stdout",
     "output_type": "stream",
     "text": [
      "True\n"
     ]
    }
   ],
   "source": [
    "true_boolean = True\n",
    "false_boolean = False\n",
    "\n",
    "my_name =\"Leonardo\"\n",
    "if my_name == \"Leonardo\":\n",
    "    print(true_boolean)\n",
    "else:\n",
    "    print(false_boolean)"
   ]
  },
  {
   "cell_type": "code",
   "execution_count": 2,
   "id": "3c2c944f-dde7-4775-9b74-89f1414fe976",
   "metadata": {},
   "outputs": [
    {
     "name": "stdout",
     "output_type": "stream",
     "text": [
      "Happy 23rd Birthday\n"
     ]
    }
   ],
   "source": [
    "age = 23\n",
    "message = \"Happy \"+str(age)+\"rd Birthday\"\n",
    "print(message)"
   ]
  },
  {
   "cell_type": "code",
   "execution_count": 3,
   "id": "1fe35dcf-7c57-47c4-8323-8a8bdf9bbed9",
   "metadata": {},
   "outputs": [
    {
     "name": "stdout",
     "output_type": "stream",
     "text": [
      "Hoca, \"Kuşadasına gidiyorum\" demiş.\n"
     ]
    }
   ],
   "source": [
    "print(\"Hoca, \\\"Kuşadasına gidiyorum\\\" demiş.\")"
   ]
  },
  {
   "cell_type": "code",
   "execution_count": 4,
   "id": "12f0b1db-fd47-4adf-8f55-cd78a70f2b1d",
   "metadata": {},
   "outputs": [
    {
     "name": "stdout",
     "output_type": "stream",
     "text": [
      "kilosu  22  lira ise  5  kilo ceviz alirsak 110  TL öderiz\n",
      "----------ya da-----------\n",
      "kilosu 22 lira ise 5 kilo ceviz alirsak 110 TL öderiz ve bu İYİ\n"
     ]
    }
   ],
   "source": [
    "ceviz = 22\n",
    "miktar = 5 \n",
    "print(\"kilosu \",ceviz,\" lira ise \",miktar,\" kilo ceviz alirsak\",ceviz*miktar,\" TL öderiz\")\n",
    "print(\"----------ya da-----------\")\n",
    "print(\"kilosu %s lira ise %s kilo ceviz alirsak %s TL öderiz ve bu %s\"%(ceviz,miktar,ceviz*miktar,\"İYİ\"))"
   ]
  },
  {
   "cell_type": "code",
   "execution_count": 5,
   "id": "9ff2a002-a244-4816-84e9-6414a14b8085",
   "metadata": {},
   "outputs": [
    {
     "name": "stdin",
     "output_type": "stream",
     "text": [
      "Birinci sayi:  15\n",
      "İkinci sayi: 30\n"
     ]
    },
    {
     "name": "stdout",
     "output_type": "stream",
     "text": [
      "1530\n",
      "1560\n",
      "45\n"
     ]
    }
   ],
   "source": [
    "sayi1 = input(\"Birinci sayi: \")\n",
    "sayi2 = input(\"İkinci sayi:\")\n",
    "print(sayi1+sayi2) ##string ifade olarak ikisini yan yana yazar\n",
    "print(int(sayi1+sayi2)+30) ##string olarak ikisini yan yana yazıp inte çevirir\n",
    "print(int(sayi1)+int(sayi2))"
   ]
  },
  {
   "cell_type": "code",
   "execution_count": 6,
   "id": "469ef50d-e8d3-48d6-8e2a-66c776bb98bb",
   "metadata": {},
   "outputs": [
    {
     "name": "stdin",
     "output_type": "stream",
     "text": [
      "Dogum yilini giriniz 1999\n"
     ]
    },
    {
     "name": "stdout",
     "output_type": "stream",
     "text": [
      "22\n"
     ]
    }
   ],
   "source": [
    "yil = int(input(\"Dogum yilini giriniz\"))\n",
    "yas = 2021 - yil\n",
    "print(yas)"
   ]
  },
  {
   "cell_type": "code",
   "execution_count": 7,
   "id": "e961b4d8-2854-400e-89f2-fc37cadc129e",
   "metadata": {},
   "outputs": [
    {
     "name": "stdin",
     "output_type": "stream",
     "text": [
      "Bir sayi girin: 5\n"
     ]
    },
    {
     "name": "stdout",
     "output_type": "stream",
     "text": [
      "pozitif\n"
     ]
    }
   ],
   "source": [
    "sayi = int(input(\"Bir sayi girin:\"))\n",
    "if sayi>0:\n",
    "    print(\"pozitif\")\n",
    "elif sayi==0:\n",
    "    print(sayi)\n",
    "else:\n",
    "    print(\"negatif\")"
   ]
  },
  {
   "cell_type": "code",
   "execution_count": 8,
   "id": "4dc09bcd-48ae-4a63-9e87-5d56c283117b",
   "metadata": {},
   "outputs": [
    {
     "name": "stdout",
     "output_type": "stream",
     "text": [
      "20\n",
      "30\n",
      "40\n",
      "50\n",
      "60\n",
      "70\n",
      "80\n",
      "90\n",
      "100\n",
      "Dongu bitti\n"
     ]
    }
   ],
   "source": [
    "a =10\n",
    "while a<100:\n",
    "    a+=10\n",
    "    print(a)\n",
    "print(\"Dongu bitti\")"
   ]
  },
  {
   "cell_type": "code",
   "execution_count": 9,
   "id": "257f6310-c9c2-4c73-b8ca-bc4072bdb572",
   "metadata": {},
   "outputs": [
    {
     "name": "stdout",
     "output_type": "stream",
     "text": [
      "M\n",
      "A\n",
      "R\n",
      "M\n",
      "A\n",
      "R\n",
      "A\n"
     ]
    }
   ],
   "source": [
    "for i in \"MARMARA\":\n",
    "    print(i)"
   ]
  },
  {
   "cell_type": "code",
   "execution_count": 10,
   "id": "a7b705f3-9ca9-4d12-889f-9881922bb52a",
   "metadata": {},
   "outputs": [
    {
     "name": "stdout",
     "output_type": "stream",
     "text": [
      "Sıradaki harf:  M\n",
      "Sıradaki harf:  A\n"
     ]
    }
   ],
   "source": [
    "for harf in \"MARMARA\":\n",
    "    if harf == \"R\":\n",
    "        break\n",
    "    print(\"Sıradaki harf: \",harf)"
   ]
  },
  {
   "cell_type": "code",
   "execution_count": 11,
   "id": "b43ed653-0017-489e-bd1a-cfa6671bbe1d",
   "metadata": {},
   "outputs": [
    {
     "name": "stdout",
     "output_type": "stream",
     "text": [
      "Sıradaki harf:  M\n",
      "Sıradaki harf:  A\n",
      "Sıradaki harf:  ?\n",
      "Sıradaki harf:  M\n",
      "Sıradaki harf:  A\n",
      "Sıradaki harf:  ?\n",
      "Sıradaki harf:  A\n"
     ]
    }
   ],
   "source": [
    "for harf in \"MARMARA\":\n",
    "    if harf == \"R\":\n",
    "        pass\n",
    "        harf =\"?\"\n",
    "    print(\"Sıradaki harf: \",harf)"
   ]
  },
  {
   "cell_type": "code",
   "execution_count": 12,
   "id": "16107e9a-78a9-46fc-8843-85601240a200",
   "metadata": {},
   "outputs": [
    {
     "name": "stdout",
     "output_type": "stream",
     "text": [
      "Sıradaki harf:  M\n",
      "Sıradaki harf:  A\n",
      "Sıradaki harf:  M\n",
      "Sıradaki harf:  A\n",
      "Sıradaki harf:  A\n"
     ]
    }
   ],
   "source": [
    "for harf in \"MARMARA\":\n",
    "    if harf == \"R\":\n",
    "        continue\n",
    "    print(\"Sıradaki harf: \",harf)"
   ]
  },
  {
   "cell_type": "code",
   "execution_count": 13,
   "id": "61269b5f-d880-42e9-b04a-dca1231fa94a",
   "metadata": {},
   "outputs": [
    {
     "data": {
      "text/plain": [
       "True"
      ]
     },
     "execution_count": 13,
     "metadata": {},
     "output_type": "execute_result"
    }
   ],
   "source": [
    "sehir = \"Istanbul\"\n",
    "\"t\" in sehir"
   ]
  },
  {
   "cell_type": "code",
   "execution_count": 14,
   "id": "9fb1b61d-5a4f-4d14-ac95-01c92564eeee",
   "metadata": {},
   "outputs": [
    {
     "name": "stdout",
     "output_type": "stream",
     "text": [
      "uzunluk:  6\n",
      "ekleme:  ['Ist', 'Kad', 'Ata', 10, 4, 31458, 'Turk']\n",
      "ikinci eleman:  Kad\n",
      "indexe ekleme:  ['Ist', 'Kad', 'Ata', 10, 'Avsa', 4, 31458, 'Turk']\n",
      "listeleri birlestirme:  ['Ist', 'Kad', 'Ata', 10, 'Avsa', 4, 31458, 'Turk', 'Marmara', 'Atiye', 15, 10]\n",
      "eleman silme:  ['Ist', 'Ata', 10, 'Avsa', 4, 31458, 'Turk', 'Marmara', 'Atiye', 15, 10]\n",
      "index silme:  ['Ist', 'Ata', 10, 'Avsa', 4, 'Turk', 'Marmara', 'Atiye', 15, 10]\n",
      "Avsa'nin sirasi:  3\n",
      "duzgun sıralama:  ['Adiyaman', 'Ankara', 'Bursa', 'Erzurum', 'Çankaya']\n",
      "ters cevirme:  [10, 15, 'Atiye', 'Marmara', 'Turk', 4, 'Avsa', 10, 'Ata', 'Ist']\n",
      "10'un kac defa gectigi:  2\n"
     ]
    }
   ],
   "source": [
    "## LİSTELER ##\n",
    "\n",
    "liste = [\"Ist\",\"Kad\",\"Ata\",10,4,31458]\n",
    "print(\"uzunluk: \",len(liste))\n",
    "liste.append(\"Turk\")\n",
    "print(\"ekleme: \",liste)\n",
    "print(\"ikinci eleman: \",liste[1])\n",
    "liste.insert(4,\"Avsa\")\n",
    "print(\"indexe ekleme: \",liste)\n",
    "liste2 = [\"Marmara\",\"Atiye\",15,10]\n",
    "liste.extend(liste2)\n",
    "print(\"listeleri birlestirme: \",liste)\n",
    "liste.remove(\"Kad\")\n",
    "print(\"eleman silme: \",liste)\n",
    "liste.pop(5)\n",
    "print(\"index silme: \",liste)\n",
    "x = liste.index(\"Avsa\")\n",
    "print(\"Avsa'nin sirasi: \",x)\n",
    "liste3 =[\"Ankara\",\"Adiyaman\",\"Erzurum\",\"Bursa\",\"Çankaya\"]\n",
    "liste3.sort()\n",
    "print(\"duzgun sıralama: \",liste3)\n",
    "liste.reverse()\n",
    "print(\"ters cevirme: \",liste)\n",
    "say = liste.count(10)\n",
    "print(\"10'un kac defa gectigi: \",say)"
   ]
  },
  {
   "cell_type": "code",
   "execution_count": 15,
   "id": "5ab76daf-8b13-4fac-afed-2cce0b347b8b",
   "metadata": {},
   "outputs": [
    {
     "name": "stdout",
     "output_type": "stream",
     "text": [
      "index -1 : Adana\n",
      "index :3 : ['Çanakkale', 'İzmir', 'Aydın']\n",
      "index 2: : ['Aydın', 'Muğla', 'Antalya', 'Mersin', 'Adana']\n",
      "index 2:4 : ['Aydın', 'Muğla']\n",
      "index 0:3 : ['Çanakkale', 'İzmir', 'Aydın']\n",
      "['Çanakkale', 'İzmir', 'Aydın', 'Muğla', 'Antalya', 'Mersin', 'Adana', 'Hatay', 'Gaziantep']\n",
      "['Çanakkale', 'İzmir', 'Aydın', 'Tekirdağ', 'İstanbul', 'Muğla', 'Antalya', 'Mersin', 'Adana', 'Hatay', 'Gaziantep']\n"
     ]
    }
   ],
   "source": [
    "Sehirler = [\"Çanakkale\",\"İzmir\",\"Aydın\",\"Muğla\",\"Antalya\",\"Mersin\",\"Adana\"]\n",
    "print(\"index -1 :\",Sehirler[-1])\n",
    "print(\"index :3 :\",Sehirler[:3])\n",
    "print(\"index 2: :\",Sehirler[2:])\n",
    "print(\"index 2:4 :\",Sehirler[2:4])\n",
    "print(\"index 0:3 :\",Sehirler[0:3])\n",
    "\n",
    "Sehirler[7:7]=[\"Hatay\",\"Gaziantep\"]\n",
    "print(Sehirler)\n",
    "Sehirler[3:3]=[\"Tekirdağ\",\"İstanbul\"]\n",
    "print(Sehirler)"
   ]
  },
  {
   "cell_type": "code",
   "execution_count": 16,
   "id": "13c138ea-6699-4088-b36f-b0e3ddc0329b",
   "metadata": {},
   "outputs": [
    {
     "name": "stdout",
     "output_type": "stream",
     "text": [
      "1 ile 100 arasinda: 73\n",
      "1 ve 11 arasomda 3'e bölündüğünde 1 kalan: 10\n",
      "50'ye kadar rastgele sayilardan 3 tane elemanı olan dizi: [39, 15, 0]\n"
     ]
    }
   ],
   "source": [
    "import random as r\n",
    "print(\"1 ile 100 arasinda:\",r.randint(1,100))\n",
    "print(\"1 ve 11 arasomda 3'e bölündüğünde 1 kalan:\",r.randrange(1,11,3))\n",
    "sayilar = range(50)\n",
    "print(\"50'ye kadar rastgele sayilardan 3 tane elemanı olan dizi:\",r.sample(sayilar,3))"
   ]
  },
  {
   "cell_type": "code",
   "execution_count": 17,
   "id": "2dec039e-5a8b-49f9-8b64-c9d5fc48fa5a",
   "metadata": {},
   "outputs": [
    {
     "name": "stdout",
     "output_type": "stream",
     "text": [
      "calisan 1:  <class 'tuple'>  calisan 2:  <class 'tuple'>\n"
     ]
    }
   ],
   "source": [
    "## DEMET(TUPLE) ##\n",
    "\n",
    "calisan1 =\"Ahmet\",\"Yılmaz\",1998,4500\n",
    "calisan2 =(\"Mehmet\",\"Yıldız\",1997,4300)\n",
    "print(\"calisan 1: \",type(calisan1),\" calisan 2: \",type(calisan2))"
   ]
  },
  {
   "cell_type": "code",
   "execution_count": 18,
   "id": "b06cad41-dbce-452f-aae9-7764c1bdab3d",
   "metadata": {},
   "outputs": [
    {
     "name": "stdout",
     "output_type": "stream",
     "text": [
      "dict_keys(['Ahmet', 'Mehmet', 'Selin'])\n",
      "dict_values(['19.01.2013', '21.03.2013', '30.06.2013'])\n",
      "Boyle biri yok\n",
      "19.01.2013\n"
     ]
    }
   ],
   "source": [
    "## SOZLUK ##\n",
    "\n",
    "personel = { 'Ahmet' : '19.01.2013','Mehmet': '21.03.2013','Selin' : '30.06.2013'}\n",
    "print(personel.keys())\n",
    "print(personel.values())\n",
    "print(personel.get(\"Sedat\",\"Boyle biri yok\"))\n",
    "print(personel.get(\"Ahmet\",\"Boyle biri yok\")) #values gelir"
   ]
  },
  {
   "cell_type": "code",
   "execution_count": 19,
   "id": "0f1cce05-b824-4a31-bfbf-694de5ead5a8",
   "metadata": {},
   "outputs": [
    {
     "name": "stdout",
     "output_type": "stream",
     "text": [
      "Python\n"
     ]
    }
   ],
   "source": [
    "def selamla():\n",
    "    dil= \"Python\"\n",
    "    print(dil)\n",
    "selamla()"
   ]
  },
  {
   "cell_type": "code",
   "execution_count": 20,
   "id": "240a9984-249f-4fd9-aa02-5f8a9abe765e",
   "metadata": {},
   "outputs": [
    {
     "name": "stdout",
     "output_type": "stream",
     "text": [
      "Python\n"
     ]
    }
   ],
   "source": [
    "def selamla():\n",
    "    dil= \"Python\"\n",
    "    return dil\n",
    "print(selamla())"
   ]
  },
  {
   "cell_type": "code",
   "execution_count": 21,
   "id": "865b570d-149b-4542-a099-0e29dd6f17d9",
   "metadata": {},
   "outputs": [
    {
     "name": "stdout",
     "output_type": "stream",
     "text": [
      "196\n"
     ]
    }
   ],
   "source": [
    "sayilar = [15,45,90,46]\n",
    "print(sum(sayilar))"
   ]
  },
  {
   "cell_type": "code",
   "execution_count": 22,
   "id": "cee10610-2bff-4c4c-b710-96a134d3c089",
   "metadata": {},
   "outputs": [
    {
     "data": {
      "text/plain": [
       "120"
      ]
     },
     "execution_count": 22,
     "metadata": {},
     "output_type": "execute_result"
    }
   ],
   "source": [
    "def carp(sayilar):\n",
    "    a = 1 \n",
    "    for i in sayilar:\n",
    "        a = a * i\n",
    "    return a\n",
    "\n",
    "sayilar1 = [4,5,6]\n",
    "carp(sayilar1)"
   ]
  },
  {
   "cell_type": "code",
   "execution_count": 23,
   "id": "1de13f40-e652-4b63-b944-ff8ac4c36db3",
   "metadata": {},
   "outputs": [
    {
     "name": "stdout",
     "output_type": "stream",
     "text": [
      "5\n",
      "a'nın degeri: 10\n"
     ]
    }
   ],
   "source": [
    "def fonk1():\n",
    "    a = 5\n",
    "    print(a)\n",
    "fonk1()\n",
    "a = 10\n",
    "print(\"a'nın degeri:\",a)"
   ]
  },
  {
   "cell_type": "code",
   "execution_count": 24,
   "id": "e42ef29a-4e12-4cdd-9ce2-b05ab9073b8b",
   "metadata": {},
   "outputs": [
    {
     "name": "stdout",
     "output_type": "stream",
     "text": [
      "5\n",
      "a'nın degeri: 5\n"
     ]
    }
   ],
   "source": [
    "a = 10\n",
    "def fonk2():\n",
    "    global a \n",
    "    a = 5\n",
    "    print(a)\n",
    "fonk2()\n",
    "print(\"a'nın degeri:\",a)"
   ]
  },
  {
   "cell_type": "code",
   "execution_count": 29,
   "id": "12142f1d-89a9-412e-8cdb-4fb2f5a8874d",
   "metadata": {},
   "outputs": [
    {
     "name": "stdin",
     "output_type": "stream",
     "text": [
      "Giriniz: 5\n"
     ]
    },
    {
     "name": "stdout",
     "output_type": "stream",
     "text": [
      "['5']\n"
     ]
    },
    {
     "name": "stdin",
     "output_type": "stream",
     "text": [
      "Devam ise a :  a\n",
      "Giriniz: 8\n"
     ]
    },
    {
     "name": "stdout",
     "output_type": "stream",
     "text": [
      "['5', '8']\n"
     ]
    },
    {
     "name": "stdin",
     "output_type": "stream",
     "text": [
      "Devam ise a :  a\n",
      "Giriniz: 0\n",
      "Devam ise a :  a\n",
      "Giriniz: 9\n"
     ]
    },
    {
     "name": "stdout",
     "output_type": "stream",
     "text": [
      "['5', '8', '?', '9']\n"
     ]
    },
    {
     "name": "stdin",
     "output_type": "stream",
     "text": [
      "Devam ise a :  a\n",
      "Giriniz: 0\n",
      "Devam ise a :  f\n"
     ]
    }
   ],
   "source": [
    "def fonk3():\n",
    "    liste = []\n",
    "    while True:\n",
    "        a = input(\"Giriniz:\")\n",
    "        if a == \"0\":\n",
    "            pass\n",
    "            liste.append(\"?\")\n",
    "            print(liste)\n",
    "        else:\n",
    "            liste.append(a)\n",
    "            print(liste)\n",
    "        b = input(\"Devam ise a : \")\n",
    "        if b !=\"a\":\n",
    "            break\n",
    "fonk3()"
   ]
  },
  {
   "cell_type": "code",
   "execution_count": 45,
   "id": "b2c3e527-0a7d-40ea-b7b9-8a5904301230",
   "metadata": {},
   "outputs": [
    {
     "name": "stdout",
     "output_type": "stream",
     "text": [
      "capitalize: Ahmet\n",
      "upper: AHMET\n",
      "lower: ahmet\n",
      "title: Ahmet\n",
      "upper: AYSE\n",
      "lower: ayse\n",
      "title: Ayse\n",
      "swapcase: MuSTAfA\n"
     ]
    }
   ],
   "source": [
    "## STRING METHODLAR ##\n",
    "\n",
    "isim = \"ahmet\"\n",
    "print(\"capitalize:\", isim.capitalize())\n",
    "isimler= [\"ahmet\", \"ayse\"]\n",
    "for i in isimler:\n",
    "    print(\"upper:\",i.upper())\n",
    "    print(\"lower:\",i.lower())\n",
    "    print(\"title:\",i.title())\n",
    "m = \"mUstaFa\"\n",
    "print(\"swapcase:\",m.swapcase())"
   ]
  },
  {
   "cell_type": "code",
   "execution_count": 57,
   "id": "d2c83bc7-1d7d-46f9-bdeb-cba2cd903d1d",
   "metadata": {},
   "outputs": [
    {
     "name": "stdout",
     "output_type": "stream",
     "text": [
      "    MARMARA    \n",
      "****MARMARA****\n",
      "MARMARA#####\n",
      "#####MARMARA\n",
      "    MXRMXRA    \n"
     ]
    }
   ],
   "source": [
    "mar = \"MARMARA\"\n",
    "ct = mar.center(15)\n",
    "print(ct)\n",
    "\n",
    "ct2 = mar.center(15,\"*\")\n",
    "print(ct2)\n",
    "\n",
    "ct3 = mar.ljust(12,\"#\")\n",
    "print(ct3)\n",
    "\n",
    "ct4 = mar.rjust(12,\"#\")\n",
    "print(ct4)\n",
    "\n",
    "print(mar.replace(\"A\",\"X\",2).center(15))"
   ]
  },
  {
   "cell_type": "code",
   "execution_count": 53,
   "id": "d305849c-4e05-4827-9eab-bdd5e8ef58d5",
   "metadata": {},
   "outputs": [
    {
     "name": "stdout",
     "output_type": "stream",
     "text": [
      "2 bit = 11\n",
      "4 bit = 0011\n"
     ]
    }
   ],
   "source": [
    "ikibit = \"11\"\n",
    "print(\"2 bit =\",ikibit)\n",
    "print(\"4 bit =\",ikibit.zfill(4))"
   ]
  },
  {
   "cell_type": "code",
   "execution_count": 63,
   "id": "f8707110-a886-4f28-bd9a-83d315265a76",
   "metadata": {},
   "outputs": [
    {
     "name": "stdout",
     "output_type": "stream",
     "text": [
      "E ile başlayan: Aydın\n",
      "a ile biten: Muğla\n",
      "E ile başlayan: Antalya\n",
      "a ile biten: Antalya\n",
      "E ile başlayan: Adana\n",
      "a ile biten: Adana\n"
     ]
    }
   ],
   "source": [
    "sehir = [\"Ordu\",\"Çanakkale\",\"İzmir\",\"Aydın\",\"Muğla\",\"Antalya\",\"Mersin\",\"Adana\"]\n",
    "for i in sehir:\n",
    "    if i.startswith(\"A\"):\n",
    "        print(\"E ile başlayan:\",i)\n",
    "    if i.endswith(\"a\"):\n",
    "        print(\"a ile biten:\",i)"
   ]
  },
  {
   "cell_type": "code",
   "execution_count": 70,
   "id": "3d56b483-d9d2-44ba-97da-b0893195c838",
   "metadata": {},
   "outputs": [
    {
     "name": "stdout",
     "output_type": "stream",
     "text": [
      "Hepsi harf degil\n",
      "Hepsi numerik degil\n"
     ]
    }
   ],
   "source": [
    "TC = \"TURKIYE 1923\"\n",
    "if TC.isalpha(): #stringin tüm karakterleri harf mi?\n",
    "    print(\"Hepsi harf\")\n",
    "else:\n",
    "    print(\"Hepsi harf degil\")\n",
    "    \n",
    "if TC.isdigit(): #stringin tüm karakterleri numerik mi?\n",
    "    print(\"Hepsi numerik\")\n",
    "else:\n",
    "    print(\"Hepsi numerik degil\")\n"
   ]
  },
  {
   "cell_type": "code",
   "execution_count": 71,
   "id": "33ce1205-3df2-4975-a0bf-ba738593929d",
   "metadata": {},
   "outputs": [
    {
     "name": "stdout",
     "output_type": "stream",
     "text": [
      "oz yineleme sonucu: \n",
      "1\n",
      "3\n",
      "6\n",
      "10\n",
      "15\n",
      "21\n"
     ]
    },
    {
     "data": {
      "text/plain": [
       "21"
      ]
     },
     "execution_count": 71,
     "metadata": {},
     "output_type": "execute_result"
    }
   ],
   "source": [
    "# PASCAL UCGENI #\n",
    "def ucgen(par):\n",
    "    if(par>0):\n",
    "        sonuc = par+ucgen(par-1)\n",
    "        print(sonuc)\n",
    "    else:\n",
    "        sonuc=0\n",
    "    return sonuc\n",
    "print(\"oz yineleme sonucu: \")\n",
    "ucgen(6)"
   ]
  },
  {
   "cell_type": "code",
   "execution_count": 72,
   "id": "a81a9fca-8fa1-4660-bbbb-447005a7a731",
   "metadata": {},
   "outputs": [
    {
     "name": "stdout",
     "output_type": "stream",
     "text": [
      "faktoriyel sonucu: \n",
      "24\n"
     ]
    }
   ],
   "source": [
    "# FAKTORIYEL HESAPLAMA #\n",
    "def faktor(par):\n",
    "    if par == 0:\n",
    "        return 1\n",
    "    else:\n",
    "        return par * faktor(par-1)\n",
    "print(\"faktoriyel sonucu: \")\n",
    "sonuc = faktor(4)\n",
    "print(sonuc)"
   ]
  },
  {
   "cell_type": "code",
   "execution_count": 73,
   "id": "3d6fc185-eb50-4aac-aa98-786cc2f6b7aa",
   "metadata": {},
   "outputs": [
    {
     "name": "stdout",
     "output_type": "stream",
     "text": [
      "False\n"
     ]
    }
   ],
   "source": [
    "rtt =\"\"\n",
    "yeni =rtt.isspace()\n",
    "print(yeni)\n",
    "##içinde boşluk varsa true döndürür."
   ]
  },
  {
   "cell_type": "code",
   "execution_count": 74,
   "id": "75ae1c01-505a-4676-a63e-301a8179c4e4",
   "metadata": {},
   "outputs": [
    {
     "name": "stdout",
     "output_type": "stream",
     "text": [
      "pyton\n",
      "1\n",
      "-1\n"
     ]
    }
   ],
   "source": [
    "p = \"pyton\"\n",
    "print(p)\n",
    "print(p.find(\"y\")) # hiç yoksa -1 döndürür, varsa 1 döndürür.\n",
    "print(p.find(\"y\",3,5)) ## index varsa ve o aralıkta bulamazsa hata fonksiyonu döndürür."
   ]
  },
  {
   "cell_type": "code",
   "execution_count": 75,
   "id": "41061d16-52bf-458d-9bde-ca38965e2a52",
   "metadata": {},
   "outputs": [
    {
     "name": "stdout",
     "output_type": "stream",
     "text": [
      "1 * 9 * 2 * 3\n"
     ]
    }
   ],
   "source": [
    "t = \"1923\"\n",
    "print(\" * \".join(t))\n",
    "##değerlerin arasına * atar"
   ]
  },
  {
   "cell_type": "code",
   "execution_count": 76,
   "id": "ea612ebe-1180-4ba7-8e81-ac39b715aa5b",
   "metadata": {},
   "outputs": [
    {
     "name": "stdout",
     "output_type": "stream",
     "text": [
      "       python    aaaa\n",
      "python    aaaa\n",
      "python    aaaa\n",
      "['python', 'aaaa']\n",
      "aaaa\n"
     ]
    }
   ],
   "source": [
    "a = \"       python    aaaa\"\n",
    "print(a)\n",
    "print(a.strip())\n",
    "print(a.lstrip())\n",
    "print(a.rsplit()) ##listeye ekledi.\n",
    "q = a.rsplit()\n",
    "print(q[1])"
   ]
  },
  {
   "cell_type": "code",
   "execution_count": 77,
   "id": "d0881d34-3ebf-4d69-b0a1-d41f28ba62d1",
   "metadata": {},
   "outputs": [
    {
     "name": "stdout",
     "output_type": "stream",
     "text": [
      "['ali veli', 'ayse mayşe']\n",
      "['ali', 'veli', 'ayse', 'mayşe']\n",
      "['ali', 'veli\\nayse', 'mayşe']\n",
      "['ali', 'veli\\nayse mayşe']\n"
     ]
    }
   ],
   "source": [
    "isim = \"ali veli\\nayse mayşe\"\n",
    "print(isim.splitlines()) ##boşluktan sonra ikiye ayırır\n",
    "print(isim.split()) ##tek tek ayırır.\n",
    "w = isim.split(\" \") ##boşluktan sonra ayırır\n",
    "e = isim.split(\" \",1) ##ilk gelen 1. boşluktan itibaren ayırır.\n",
    "print(w)\n",
    "print(e)"
   ]
  },
  {
   "cell_type": "code",
   "execution_count": 85,
   "id": "984c1735-8b99-45b1-887b-642a46443760",
   "metadata": {},
   "outputs": [
    {
     "data": {
      "text/plain": [
       "'Ordu Amasya'"
      ]
     },
     "execution_count": 85,
     "metadata": {},
     "output_type": "execute_result"
    }
   ],
   "source": [
    "dosya = open(\"metin1.txt\",\"w\")\n",
    "dosya.write(\"Ordu \")\n",
    "dosya.write(\"Amasya\")\n",
    "dosya.close()\n",
    "dosya = open(\"metin1.txt\",\"r\")\n",
    "dosya.read()"
   ]
  },
  {
   "cell_type": "code",
   "execution_count": 86,
   "id": "b963bdfb-dbdb-4631-ba0c-70c38bae3d41",
   "metadata": {},
   "outputs": [
    {
     "data": {
      "text/plain": [
       "'Samsun'"
      ]
     },
     "execution_count": 86,
     "metadata": {},
     "output_type": "execute_result"
    }
   ],
   "source": [
    "dosya = open(\"metin1.txt\",\"w\")\n",
    "dosya.write(\"Samsun\")\n",
    "dosya.close\n",
    "dosya = open(\"metin1.txt\",\"r\")\n",
    "dosya.read()"
   ]
  },
  {
   "cell_type": "code",
   "execution_count": 97,
   "id": "88e1ff70-7c89-4790-83b0-76a1793fd172",
   "metadata": {},
   "outputs": [
    {
     "name": "stdin",
     "output_type": "stream",
     "text": [
      "Sai girin: a\n"
     ]
    },
    {
     "name": "stdout",
     "output_type": "stream",
     "text": [
      "Numerik deger girmediniz\n",
      "Program tamamlandı\n"
     ]
    }
   ],
   "source": [
    "try:\n",
    "    sayi = int(input(\"Sai girin:\"))\n",
    "    print(\"Girdiginiz sayi:\",sayi)\n",
    "except ValueError:\n",
    "    print(\"Numerik deger girmediniz\")\n",
    "print(\"Program tamamlandı\")"
   ]
  }
 ],
 "metadata": {
  "kernelspec": {
   "display_name": "Python 3",
   "language": "python",
   "name": "python3"
  },
  "language_info": {
   "codemirror_mode": {
    "name": "ipython",
    "version": 3
   },
   "file_extension": ".py",
   "mimetype": "text/x-python",
   "name": "python",
   "nbconvert_exporter": "python",
   "pygments_lexer": "ipython3",
   "version": "3.8.8"
  }
 },
 "nbformat": 4,
 "nbformat_minor": 5
}

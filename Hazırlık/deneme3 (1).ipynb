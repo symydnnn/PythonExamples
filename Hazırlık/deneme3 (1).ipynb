{
 "cells": [
  {
   "cell_type": "code",
   "execution_count": 1,
   "id": "d644bfd3-9759-4589-b27a-f0df93fb8c0e",
   "metadata": {},
   "outputs": [],
   "source": [
    "import re"
   ]
  },
  {
   "cell_type": "code",
   "execution_count": 20,
   "id": "b5e2658d-f650-4c27-a74c-b4da31857239",
   "metadata": {},
   "outputs": [
    {
     "name": "stdout",
     "output_type": "stream",
     "text": [
      "Ayse Ahmet Mehmet\n"
     ]
    }
   ],
   "source": [
    "hand = open('metin2.txt')\n",
    "for line in hand:\n",
    "    line = line.rstrip()\n",
    "    if line.find('Ahmet') >= 0:\n",
    "        print(line)"
   ]
  },
  {
   "cell_type": "code",
   "execution_count": 9,
   "id": "0912daa4-3804-4390-ad69-9dc06800c21a",
   "metadata": {},
   "outputs": [
    {
     "name": "stdout",
     "output_type": "stream",
     "text": [
      "Seyma Dicle\n"
     ]
    }
   ],
   "source": [
    "import re\n",
    "hand = open('metin2.txt')\n",
    "for line in hand:\n",
    "    line = line.rstrip()\n",
    "    if re.search('Seyma', line) :\n",
    "        print(line)"
   ]
  },
  {
   "cell_type": "code",
   "execution_count": 21,
   "id": "86575a92-5038-4063-a9eb-2fa29b952eb6",
   "metadata": {},
   "outputs": [
    {
     "name": "stdout",
     "output_type": "stream",
     "text": [
      "Ayse Ahmet Mehmet\n"
     ]
    }
   ],
   "source": [
    "hand = open('metin2.txt')\n",
    "for line in hand:\n",
    "    line = line.rstrip()\n",
    "    if line.startswith('Ayse') :\n",
    "        print(line)"
   ]
  },
  {
   "cell_type": "code",
   "execution_count": 19,
   "id": "3699b350-d1ae-4f3c-a155-ec77d2691c0c",
   "metadata": {},
   "outputs": [
    {
     "name": "stdout",
     "output_type": "stream",
     "text": [
      "Alihan Hakan Zeynep\n"
     ]
    }
   ],
   "source": [
    "import re\n",
    "hand = open('metin2.txt')\n",
    "for line in hand:\n",
    "    line = line.rstrip()\n",
    "    if re.search('^Alihan', line) :\n",
    "        print(line)"
   ]
  },
  {
   "cell_type": "code",
   "execution_count": 30,
   "id": "39fa7077-439e-4ed0-9d08-d47a9b90675c",
   "metadata": {},
   "outputs": [
    {
     "name": "stdout",
     "output_type": "stream",
     "text": [
      "Ayse Ahmet Mehmet\n",
      "Asli\n",
      "Alihan Hakan Zeynep\n",
      "Seyma Dicle\n",
      "Asli Akin Zafer\n"
     ]
    }
   ],
   "source": [
    "import re\n",
    "hand = open('metin2.txt')\n",
    "for line in hand:\n",
    "    line = line.rstrip()\n",
    "    if re.search('^3*', line) :\n",
    "        print(line)"
   ]
  },
  {
   "cell_type": "code",
   "execution_count": 39,
   "id": "47d7fe81-bde5-45c0-a017-7b8625aaa503",
   "metadata": {},
   "outputs": [
    {
     "name": "stdout",
     "output_type": "stream",
     "text": [
      "Ayse Ahmet Mehmet\n",
      "Asli\n",
      "Alihan Hakan Zeynep\n",
      "Asli Akin Zafer\n"
     ]
    }
   ],
   "source": [
    "import re\n",
    "hand = open('metin2.txt')\n",
    "for line in hand:\n",
    "    line = line.rstrip()\n",
    "    if re.search('^A.*', line) :\n",
    "        print(line)"
   ]
  },
  {
   "cell_type": "code",
   "execution_count": 42,
   "id": "57beee9e-9c79-44b3-9d25-73adf7277ec7",
   "metadata": {},
   "outputs": [
    {
     "name": "stdout",
     "output_type": "stream",
     "text": [
      "Ayse Ahmet Mehmet\n"
     ]
    }
   ],
   "source": [
    "import re\n",
    "hand = open('metin2.txt')\n",
    "for line in hand:\n",
    "    line = line.rstrip()\n",
    "    if re.search('^Ay\\S+', line) :\n",
    "        print(line)"
   ]
  },
  {
   "cell_type": "code",
   "execution_count": 55,
   "id": "41ad798d-ee4b-4f6c-8b41-70463e2de2d8",
   "metadata": {},
   "outputs": [
    {
     "name": "stdout",
     "output_type": "stream",
     "text": [
      "rakamları listeleyen:  ['2', '1', '9', '4', '2']\n",
      "MEFOU'dan biri bulunuyorsa listeleyen:  ['M', 'F', 'F']\n"
     ]
    }
   ],
   "source": [
    "x = \"My 2 Favorite Fnumbers are 19 and 42\"\n",
    "y = re.findall(\"[0-9]\",x)\n",
    "print(\"rakamları listeleyen: \",y)\n",
    "y = re.findall('[MEFOU]+',x)\n",
    "print(\"MEFOU'dan biri bulunuyorsa listeleyen: \",y)"
   ]
  },
  {
   "cell_type": "code",
   "execution_count": 57,
   "id": "6710e2be-7659-4c41-b096-4e5670547680",
   "metadata": {},
   "outputs": [
    {
     "name": "stdout",
     "output_type": "stream",
     "text": [
      "['From: Using the :']\n"
     ]
    }
   ],
   "source": [
    "x = 'From: Using the : character'\n",
    "y = re.findall('^F.+:', x)\n",
    "print (y)"
   ]
  },
  {
   "cell_type": "code",
   "execution_count": 58,
   "id": "939779b5-33f5-4ef3-9aa2-ef3af47ddd03",
   "metadata": {},
   "outputs": [
    {
     "name": "stdout",
     "output_type": "stream",
     "text": [
      "['From:']\n"
     ]
    }
   ],
   "source": [
    "x = 'From: Using the : character'\n",
    "y = re.findall('^F.+?:', x)\n",
    "print(y)"
   ]
  },
  {
   "cell_type": "code",
   "execution_count": 64,
   "id": "6f5bde12-7de4-4fab-8668-062ca187c90a",
   "metadata": {},
   "outputs": [
    {
     "name": "stdout",
     "output_type": "stream",
     "text": [
      "['stephen.marquard@uct.ac.za']\n",
      "[]\n"
     ]
    }
   ],
   "source": [
    "x = \"From stephen.marquard@uct.ac.za Sat Jan 5 09:14:16 2008\"\n",
    "y = re.findall('\\S+@\\S+',x)\n",
    "print(y)\n",
    "y = re.findall('^From:.*? (\\S+@\\S+)',x)\n",
    "print (y)"
   ]
  },
  {
   "cell_type": "code",
   "execution_count": 69,
   "id": "5936f109-9bbe-4522-9cd6-bf439404fd7e",
   "metadata": {},
   "outputs": [
    {
     "name": "stdout",
     "output_type": "stream",
     "text": [
      "@'nin indexi:  21\n",
      "bosluk indexi: 31\n",
      "iki index arasındaki bolum: uct.ac.za\n"
     ]
    }
   ],
   "source": [
    "data = 'From stephen.marquard@uct.ac.za Sat Jan 5 09:14:16 2008'\n",
    "atpos = data.find('@')\n",
    "print(\"@'nin indexi: \",atpos)\n",
    "sppos = data.find(' ',atpos)\n",
    "print(\"bosluk indexi:\",sppos)\n",
    "host = data[atpos+1 : sppos]\n",
    "print(\"iki index arasındaki bolum:\",host)\n"
   ]
  },
  {
   "cell_type": "code",
   "execution_count": 79,
   "id": "5f4c95a9-8d1a-4247-a758-6f0bc0f47df1",
   "metadata": {},
   "outputs": [
    {
     "name": "stdout",
     "output_type": "stream",
     "text": [
      "['uct.ac.za Sat ']\n",
      "['uard@uct.ac.za']\n"
     ]
    }
   ],
   "source": [
    "lin = 'From stephen.marquard@uct.ac.za Sat Jan 5 09:14:16 2008'\n",
    "y = re.findall('@([^J]*)',lin)\n",
    "print (y)\n",
    "y = re.findall('^From .*q([^ ]*)',lin)\n",
    "print (y)"
   ]
  },
  {
   "cell_type": "code",
   "execution_count": 102,
   "id": "f2197604-b3bf-4c24-aee9-a577ccd937ce",
   "metadata": {},
   "outputs": [
    {
     "name": "stdout",
     "output_type": "stream",
     "text": [
      "[]\n",
      "['10']\n",
      "[]\n",
      "[]\n",
      "['45']\n",
      "Maximum: 45.0\n",
      "Toplam: 55.0\n"
     ]
    }
   ],
   "source": [
    "hand = open('metin2.txt')\n",
    "numlist = list()\n",
    "for line in hand:\n",
    "    a = 0\n",
    "    line = line.rstrip()\n",
    "    stuff = re.findall('^Asli ([0-9.]+)', line)\n",
    "    print(stuff)\n",
    "    if len(stuff) != 1 : continue\n",
    "    num = float(stuff[0])\n",
    "    numlist.append(num)\n",
    "print('Maximum:', max(numlist))\n",
    "print(\"Toplam:\",sum(numlist))"
   ]
  },
  {
   "cell_type": "code",
   "execution_count": 104,
   "id": "f79039aa-2b31-41bb-ac75-430f1a5634d5",
   "metadata": {},
   "outputs": [
    {
     "name": "stdout",
     "output_type": "stream",
     "text": [
      "['$10.00', '$9']\n"
     ]
    }
   ],
   "source": [
    "x = 'We just received $10.00 $9 for cookies.'\n",
    "y = re.findall('\\$[0-9.]+',x)\n",
    "print (y)"
   ]
  },
  {
   "cell_type": "code",
   "execution_count": 110,
   "id": "d248260f-8200-48e5-91de-1279499a46d7",
   "metadata": {},
   "outputs": [
    {
     "data": {
      "text/plain": [
       "'{\"a\": true, \"b\": false, \"c\": true}'"
      ]
     },
     "execution_count": 110,
     "metadata": {},
     "output_type": "execute_result"
    }
   ],
   "source": [
    "import json\n",
    "d = {\"a\":True, \"b\":False, \"c\":True}\n",
    "d_json = json.dumps(d)\n",
    "d_json"
   ]
  },
  {
   "cell_type": "code",
   "execution_count": 112,
   "id": "e28990f7-dcc2-4166-8d5b-ce618d3e729f",
   "metadata": {},
   "outputs": [
    {
     "data": {
      "text/plain": [
       "{'a': True, 'b': False, 'c': True}"
      ]
     },
     "execution_count": 112,
     "metadata": {},
     "output_type": "execute_result"
    }
   ],
   "source": [
    "json.loads(d_json)"
   ]
  },
  {
   "cell_type": "code",
   "execution_count": 115,
   "id": "b871a60c-9dea-4f32-a10d-3763701e8edf",
   "metadata": {},
   "outputs": [
    {
     "name": "stdout",
     "output_type": "stream",
     "text": [
      "{\"Isabella\": {\"surname\": \"Jones\", \"adress\": [\"Bright Av.\", 34, \"Village of Sun\"]}, \"Noah\": {\"surname\": \"Horton\", \"adress\": [null, null, \"Whoville\"]}}\n"
     ]
    },
    {
     "data": {
      "text/plain": [
       "{'Isabella': {'surname': 'Jones',\n",
       "  'adress': ['Bright Av.', 34, 'Village of Sun']},\n",
       " 'Noah': {'surname': 'Horton', 'adress': [None, None, 'Whoville']}}"
      ]
     },
     "execution_count": 115,
     "metadata": {},
     "output_type": "execute_result"
    }
   ],
   "source": [
    "persons = {\"Isabella\":{\"surname\":\"Jones\",\"adress\":(\"Bright Av.\",34,\"Village of Sun\")},\n",
    "          \"Noah\":{\"surname\":\"Horton\",\"adress\":(None,None,\"Whoville\")}}\n",
    "jpersons = json.dumps(persons)\n",
    "print(jpersons)\n",
    "json.loads(jpersons)"
   ]
  },
  {
   "cell_type": "code",
   "execution_count": 120,
   "id": "f4005b9c-d2f9-40ff-9002-468298b05b04",
   "metadata": {},
   "outputs": [
    {
     "name": "stdout",
     "output_type": "stream",
     "text": [
      "{\n",
      "      \"Isabella\": {\n",
      "            \"surname\": \"Jones\",\n",
      "            \"adress\": [\n",
      "                  \"Bright Av.\",\n",
      "                  34,\n",
      "                  \"Village of Sun\"\n",
      "            ]\n",
      "      },\n",
      "      \"Noah\": {\n",
      "            \"surname\": \"Horton\",\n",
      "            \"adress\": [\n",
      "                  null,\n",
      "                  null,\n",
      "                  \"Whoville\"\n",
      "            ]\n",
      "      }\n",
      "}\n"
     ]
    }
   ],
   "source": [
    "jpersons = json.dumps(persons,indent = 6)\n",
    "print(jpersons)"
   ]
  },
  {
   "cell_type": "code",
   "execution_count": null,
   "id": "4824fbe9-39cd-4f33-9265-fe136cf3d728",
   "metadata": {},
   "outputs": [],
   "source": []
  }
 ],
 "metadata": {
  "kernelspec": {
   "display_name": "Python 3",
   "language": "python",
   "name": "python3"
  },
  "language_info": {
   "codemirror_mode": {
    "name": "ipython",
    "version": 3
   },
   "file_extension": ".py",
   "mimetype": "text/x-python",
   "name": "python",
   "nbconvert_exporter": "python",
   "pygments_lexer": "ipython3",
   "version": "3.8.8"
  }
 },
 "nbformat": 4,
 "nbformat_minor": 5
}

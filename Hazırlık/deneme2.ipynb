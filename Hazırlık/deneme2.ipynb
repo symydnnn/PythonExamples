{
 "cells": [
  {
   "cell_type": "code",
   "execution_count": 1,
   "id": "55d0c8c8-92eb-48b3-847a-f21c42b5490e",
   "metadata": {},
   "outputs": [
    {
     "name": "stdout",
     "output_type": "stream",
     "text": [
      "okay\n",
      "okay\n",
      "okay\n",
      "okay\n"
     ]
    }
   ],
   "source": [
    "def print1(s):\n",
    "    print(s)\n",
    "    print(s)\n",
    "\n",
    "def print2(s):\n",
    "    print1(s)\n",
    "    print1(s)\n",
    "\n",
    "print2(\"okay\")"
   ]
  },
  {
   "cell_type": "code",
   "execution_count": 2,
   "id": "eb9746b7-3e19-4a8a-8646-590781a976d6",
   "metadata": {},
   "outputs": [
    {
     "name": "stdout",
     "output_type": "stream",
     "text": [
      "okay\n",
      "okay\n",
      "okay\n",
      "okay\n"
     ]
    }
   ],
   "source": [
    "def print3(s):\n",
    "    print4(s)\n",
    "    print4(s)\n",
    "    \n",
    "def print4(s):\n",
    "    print(s)\n",
    "    print(s)\n",
    "\n",
    "print3(\"okay\")"
   ]
  },
  {
   "cell_type": "code",
   "execution_count": 3,
   "id": "5e261444-4854-4182-b70e-6b0cb291450f",
   "metadata": {},
   "outputs": [
    {
     "ename": "NameError",
     "evalue": "name 'print6' is not defined",
     "output_type": "error",
     "traceback": [
      "\u001b[1;31m---------------------------------------------------------------------------\u001b[0m",
      "\u001b[1;31mNameError\u001b[0m                                 Traceback (most recent call last)",
      "\u001b[1;32m<ipython-input-3-109f7f580609>\u001b[0m in \u001b[0;36m<module>\u001b[1;34m\u001b[0m\n\u001b[0;32m      3\u001b[0m     \u001b[0mprint6\u001b[0m\u001b[1;33m(\u001b[0m\u001b[0ms\u001b[0m\u001b[1;33m)\u001b[0m\u001b[1;33m\u001b[0m\u001b[1;33m\u001b[0m\u001b[0m\n\u001b[0;32m      4\u001b[0m \u001b[1;33m\u001b[0m\u001b[0m\n\u001b[1;32m----> 5\u001b[1;33m \u001b[0mprint5\u001b[0m\u001b[1;33m(\u001b[0m\u001b[1;34m\"okay\"\u001b[0m\u001b[1;33m)\u001b[0m\u001b[1;33m\u001b[0m\u001b[1;33m\u001b[0m\u001b[0m\n\u001b[0m\u001b[0;32m      6\u001b[0m \u001b[1;33m\u001b[0m\u001b[0m\n\u001b[0;32m      7\u001b[0m \u001b[1;32mdef\u001b[0m \u001b[0mprint6\u001b[0m\u001b[1;33m(\u001b[0m\u001b[0ms\u001b[0m\u001b[1;33m)\u001b[0m\u001b[1;33m:\u001b[0m\u001b[1;33m\u001b[0m\u001b[1;33m\u001b[0m\u001b[0m\n",
      "\u001b[1;32m<ipython-input-3-109f7f580609>\u001b[0m in \u001b[0;36mprint5\u001b[1;34m(s)\u001b[0m\n\u001b[0;32m      1\u001b[0m \u001b[1;32mdef\u001b[0m \u001b[0mprint5\u001b[0m\u001b[1;33m(\u001b[0m\u001b[0ms\u001b[0m\u001b[1;33m)\u001b[0m\u001b[1;33m:\u001b[0m\u001b[1;33m\u001b[0m\u001b[1;33m\u001b[0m\u001b[0m\n\u001b[1;32m----> 2\u001b[1;33m     \u001b[0mprint6\u001b[0m\u001b[1;33m(\u001b[0m\u001b[0ms\u001b[0m\u001b[1;33m)\u001b[0m\u001b[1;33m\u001b[0m\u001b[1;33m\u001b[0m\u001b[0m\n\u001b[0m\u001b[0;32m      3\u001b[0m     \u001b[0mprint6\u001b[0m\u001b[1;33m(\u001b[0m\u001b[0ms\u001b[0m\u001b[1;33m)\u001b[0m\u001b[1;33m\u001b[0m\u001b[1;33m\u001b[0m\u001b[0m\n\u001b[0;32m      4\u001b[0m \u001b[1;33m\u001b[0m\u001b[0m\n\u001b[0;32m      5\u001b[0m \u001b[0mprint5\u001b[0m\u001b[1;33m(\u001b[0m\u001b[1;34m\"okay\"\u001b[0m\u001b[1;33m)\u001b[0m\u001b[1;33m\u001b[0m\u001b[1;33m\u001b[0m\u001b[0m\n",
      "\u001b[1;31mNameError\u001b[0m: name 'print6' is not defined"
     ]
    }
   ],
   "source": [
    "def print5(s):\n",
    "    print6(s)\n",
    "    print6(s)\n",
    "\n",
    "print5(\"okay\")\n",
    "\n",
    "def print6(s):\n",
    "    print(s)\n",
    "    print(s)"
   ]
  },
  {
   "cell_type": "code",
   "execution_count": 4,
   "id": "bb10e103-f0ce-4e1a-b803-bd3f17758cbe",
   "metadata": {},
   "outputs": [
    {
     "name": "stdout",
     "output_type": "stream",
     "text": [
      "6\n",
      "5\n",
      "4\n",
      "3\n",
      "2\n",
      "1\n"
     ]
    }
   ],
   "source": [
    "def countDown(n):\n",
    "    if n<1:\n",
    "        pass #hiçbir şey yapma\n",
    "    elif n == 1:\n",
    "        print(1)\n",
    "    elif n == 2:\n",
    "        print(2)\n",
    "        print(1)\n",
    "    elif n == 3:\n",
    "        print(3)\n",
    "        countDown(2)\n",
    "    else:\n",
    "        print(n)\n",
    "        countDown(n-1)\n",
    "countDown(6)"
   ]
  },
  {
   "cell_type": "code",
   "execution_count": 5,
   "id": "9fee6ca1-fe6a-4c4d-bae1-a806fd7b0c20",
   "metadata": {},
   "outputs": [
    {
     "name": "stdout",
     "output_type": "stream",
     "text": [
      "6\n",
      "5\n",
      "4\n",
      "3\n",
      "2\n",
      "1\n"
     ]
    }
   ],
   "source": [
    "def countDown2(n):\n",
    "    if n<1:\n",
    "        pass\n",
    "    else:\n",
    "        print(n)\n",
    "        countDown2(n-1)\n",
    "countDown2(6)"
   ]
  },
  {
   "cell_type": "code",
   "execution_count": 6,
   "id": "66a22f56-8e2f-4240-8968-b28bab0c5540",
   "metadata": {},
   "outputs": [
    {
     "name": "stdout",
     "output_type": "stream",
     "text": [
      "6\n",
      "5\n",
      "4\n",
      "3\n",
      "2\n",
      "1\n"
     ]
    }
   ],
   "source": [
    "def countDown3(n):\n",
    "    if n>0:\n",
    "        print(n)\n",
    "        countDown3(n-1)\n",
    "countDown3(6)"
   ]
  },
  {
   "cell_type": "code",
   "execution_count": 7,
   "id": "59bef08a-d7e5-4172-93ad-92087ad08ea5",
   "metadata": {},
   "outputs": [
    {
     "name": "stdout",
     "output_type": "stream",
     "text": [
      "1\n",
      "2\n",
      "3\n"
     ]
    }
   ],
   "source": [
    "def mystery(n):\n",
    "    if n<1:\n",
    "        pass\n",
    "    else: \n",
    "        mystery(n-1)\n",
    "        print(n)\n",
    "mystery(3)"
   ]
  },
  {
   "cell_type": "code",
   "execution_count": 8,
   "id": "71770604-c8fb-4e3e-903a-fe7e49efd694",
   "metadata": {},
   "outputs": [
    {
     "data": {
      "text/plain": [
       "120"
      ]
     },
     "execution_count": 8,
     "metadata": {},
     "output_type": "execute_result"
    }
   ],
   "source": [
    "##Faktoriyel hesaplama\n",
    "def fak(n):\n",
    "    deger=1\n",
    "    if n>0:\n",
    "        deger = n * fak(n-1)\n",
    "    return deger\n",
    "fak(5)"
   ]
  },
  {
   "cell_type": "code",
   "execution_count": 9,
   "id": "b123b61e-c5f6-41f4-81b5-5697abf0178e",
   "metadata": {},
   "outputs": [
    {
     "name": "stdout",
     "output_type": "stream",
     "text": [
      "4\n",
      "3\n",
      "2\n",
      "1\n",
      "2\n",
      "3\n",
      "4\n"
     ]
    }
   ],
   "source": [
    "def countDown4(n):\n",
    "    if not n:\n",
    "        return\n",
    "    else:\n",
    "        print(n)\n",
    "        countDown4(n-1)\n",
    "        if(n!=1):\n",
    "            print(n)\n",
    "countDown4(4)"
   ]
  },
  {
   "cell_type": "code",
   "execution_count": 1,
   "id": "c9803ffe-72e7-4de3-a810-31238cd98a1c",
   "metadata": {},
   "outputs": [
    {
     "name": "stdout",
     "output_type": "stream",
     "text": [
      "Wellesley\n",
      "ellesley\n",
      "llesley\n",
      "lesley\n",
      "esley\n",
      "sley\n",
      "ley\n",
      "ey\n",
      "y\n"
     ]
    }
   ],
   "source": [
    "def Tower(girdi =\"\"):\n",
    "    if len(girdi) != 0:\n",
    "        print(girdi)\n",
    "        yeniGirdi = girdi[1:]\n",
    "        Tower(yeniGirdi)\n",
    "Tower(\"Wellesley\")"
   ]
  },
  {
   "cell_type": "code",
   "execution_count": 3,
   "id": "75dc9624-924b-47fc-a1af-a3601548c805",
   "metadata": {},
   "outputs": [],
   "source": [
    "import tkinter\n",
    "def main():\n",
    "    root = tkinter.Tk()\n",
    "    root.mainloop()\n",
    "main()"
   ]
  },
  {
   "cell_type": "code",
   "execution_count": 4,
   "id": "29b3d999-4331-46b5-93a8-ff1a903d66ff",
   "metadata": {},
   "outputs": [],
   "source": [
    "import tkinter\n",
    "def main():\n",
    "    root = tkinter.Tk()\n",
    "    button = tkinter.Button(root, text=\"Click Me\")\n",
    "    button.pack()\n",
    "    root.mainloop()\n",
    "main()"
   ]
  },
  {
   "cell_type": "code",
   "execution_count": 8,
   "id": "47d75ea9-3c14-4b8f-b028-ff47d0946b0d",
   "metadata": {},
   "outputs": [],
   "source": [
    "from tkinter import messagebox\n",
    "\n",
    "def do_something():\n",
    "    messagebox.showinfo('Response', 'You have clicked the button')\n",
    "\n",
    "def main2():\n",
    "    root = tkinter.Tk()\n",
    "    button = tkinter.Button(root, text=\"Click Me\", command = do_something)\n",
    "    button.pack()\n",
    "    root.mainloop()\n",
    "    \n",
    "main2()"
   ]
  },
  {
   "cell_type": "code",
   "execution_count": 10,
   "id": "d5aa74b5-f76c-4bba-b00b-0edd1c3940ab",
   "metadata": {},
   "outputs": [],
   "source": [
    "import tkinter\n",
    "\n",
    "window = tkinter.Tk()\n",
    "window.title(\"GUI\")\n",
    "\n",
    "top_frame = tkinter.Frame(window).pack()\n",
    "bottom_frame = tkinter.Frame(window).pack(side = \"bottom\")\n",
    "\n",
    "btn1 = tkinter.Button(top_frame, text = \"Button1\", fg = \"red\").pack()# 'fg - foreground' is used to color the contents\n",
    "btn2 = tkinter.Button(top_frame, text = \"Button2\", fg = \"green\").pack()# 'text' is used to write the text on the Button\n",
    "btn3 = tkinter.Button(bottom_frame, text = \"Button2\", fg = \"purple\").pack(side = \"left\")# 'side' is used to align the widgets\n",
    "btn4 = tkinter.Button(bottom_frame, text = \"Button2\", fg = \"orange\").pack(side = \"left\")\n",
    "window.mainloop()\n"
   ]
  },
  {
   "cell_type": "code",
   "execution_count": 11,
   "id": "4705c96e-ffc4-4654-9da2-9724459e2f8a",
   "metadata": {},
   "outputs": [],
   "source": [
    "import tkinter as tk\n",
    "root = tk.Tk()\n",
    "w = tk.Label(root, text=\"Red Sun\", bg=\"red\", fg=\"white\")\n",
    "w.pack()\n",
    "w = tk.Label(root, text=\"Green Grass\", bg=\"green\", fg=\"black\")\n",
    "w.pack(fill=tk.X)\n",
    "w = tk.Label(root, text=\"Blue Sky\", bg=\"blue\", fg=\"white\")\n",
    "w.pack(fill=tk.X)\n",
    "tk.mainloop()"
   ]
  },
  {
   "cell_type": "code",
   "execution_count": 3,
   "id": "71f15356-5f0f-40cf-a9e1-82b1f85989b3",
   "metadata": {},
   "outputs": [],
   "source": [
    "import tkinter as tk\n",
    "colours = ['red','green','orange','white','yellow','blue']\n",
    "r = 0\n",
    "for c in colours:\n",
    "    tk.Label(text=c, relief=tk.RIDGE, width=15).grid(row=r,column=0)\n",
    "    tk.Entry(bg=c, relief=tk.SUNKEN, width=10).grid(row=r,column=1)\n",
    "    r = r + 1\n",
    "tk.mainloop()"
   ]
  },
  {
   "cell_type": "code",
   "execution_count": 2,
   "id": "3e080283-7e05-4b7c-93f1-504682e57abd",
   "metadata": {},
   "outputs": [],
   "source": [
    "import tkinter\n",
    "root = tkinter.Tk( )\n",
    "for r in range(3):\n",
    "    for c in range(4):\n",
    "        tkinter.Label(root, text='R%s/C%s'%(r,c), borderwidth=3, padx=3, pady=3, fg=\"yellow\",bg=\"blue\" ).grid(row=r,column=c)\n",
    "root.mainloop()"
   ]
  },
  {
   "cell_type": "code",
   "execution_count": 17,
   "id": "d51a1791-bfe2-4060-b512-39e3ee3637d5",
   "metadata": {},
   "outputs": [],
   "source": [
    "import tkinter\n",
    "from tkinter import messagebox\n",
    "\n",
    "top = tkinter.Tk()\n",
    "top.geometry(\"300x400\") \n",
    "\n",
    "def helloCallBack():\n",
    "    messagebox.showinfo( \"Hello Python\", \"Hello World\")\n",
    "B = tkinter.Button(top, text =\"Hello\", command = helloCallBack)\n",
    "B.pack()\n",
    "B.place(bordermode=\"outside\", height=100, width=200)\n",
    "top.mainloop()"
   ]
  },
  {
   "cell_type": "code",
   "execution_count": 20,
   "id": "8072c9d4-a881-4872-be3f-b8a2deb56779",
   "metadata": {},
   "outputs": [],
   "source": [
    "import tkinter as tk\n",
    "import random\n",
    "root = tk.Tk()\n",
    "\n",
    "root.geometry(\"170x200+30+230\")\n",
    "languages = ['Python', 'Perl', 'C++', 'Java', 'Tcl/Tk']\n",
    "labels = range(5)\n",
    "\n",
    "for i in range(5):\n",
    "    ct = [random.randrange(256) for x in range(3)]\n",
    "    brightness = int(round(0.299 * ct[0] + 0.587 * ct[1] + 0.114 * ct[2]))\n",
    "    ct_hex = \"%02x%02x%02x\" % tuple(ct)\n",
    "    bg_colour = '#' + \"\".join(ct_hex)\n",
    "    l = tk.Label(root,\n",
    "                text=languages[i],\n",
    "                fg='White' if brightness < 120 else 'Black',\n",
    "                bg=bg_colour)\n",
    "l.place(x=20, y=30 + i * 30, width=120, height=25)\n",
    "\n",
    "root.mainloop() "
   ]
  },
  {
   "cell_type": "code",
   "execution_count": 4,
   "id": "2056f8e7-f2bb-4a3d-9699-4967fc1d588d",
   "metadata": {},
   "outputs": [],
   "source": [
    "import tkinter\n",
    "\n",
    "window = tkinter.Tk()\n",
    "window.title(\"GUI\")\n",
    "def say_hi():\n",
    "    tkinter.Label(window, text = \"Hi\").pack()\n",
    "    \n",
    "tkinter.Button(window, text = \"Click Me!\", command = say_hi).pack()\n",
    "window.mainloop()"
   ]
  },
  {
   "cell_type": "code",
   "execution_count": 28,
   "id": "e936e35b-8297-4c58-8456-d4e90e08c2c5",
   "metadata": {},
   "outputs": [],
   "source": [
    "import tkinter\n",
    "window = tkinter.Tk()\n",
    "window.title(\"GUI\")\n",
    "#creating 3 different functions for 3 events\n",
    "def left_click(event):\n",
    "    tkinter.Label(window, text = \"Left Click!\").pack()\n",
    "def middle_click(event):\n",
    "    tkinter.Label(window, text = \"Middle Click!\").pack()\n",
    "def right_click(event):\n",
    "    tkinter.Label(window, text = \"Right Click!\").pack()\n",
    "\n",
    "window.bind(\"<Button-1>\", left_click)\n",
    "window.bind(\"<Button-2>\", middle_click)\n",
    "window.bind(\"<Button-3>\", right_click)\n",
    "window.mainloop()"
   ]
  },
  {
   "cell_type": "code",
   "execution_count": 31,
   "id": "0f169453-1889-4435-a358-f465ee3fddd0",
   "metadata": {},
   "outputs": [],
   "source": [
    "import tkinter\n",
    "class GeeksBro:\n",
    "    def __init__(self, window):\n",
    "        # create a button to call a function called 'say_hi'\n",
    "        self.text_btn = tkinter.Button(window, text = \"Click Me!\", command = self.say_hi)\n",
    "        self.text_btn.pack()\n",
    "        # closing the 'window' when you click the button\n",
    "        self.close_btn = tkinter.Button(window, text = \"Close\", command = window.quit)\n",
    "        self.close_btn.pack()\n",
    "\n",
    "    def say_hi(self):\n",
    "        tkinter.Label(window, text = \"Hi\").pack()\n",
    "\n",
    "window = tkinter.Tk()\n",
    "window.title(\"GUI\")\n",
    "geeks_bro = GeeksBro(window)\n",
    "\n",
    "window.mainloop()"
   ]
  },
  {
   "cell_type": "code",
   "execution_count": null,
   "id": "afe543d7-ad1b-4e07-833c-6bf6e8431481",
   "metadata": {},
   "outputs": [],
   "source": []
  },
  {
   "cell_type": "code",
   "execution_count": null,
   "id": "aacc99b0-c1ef-4680-bd7f-c83cd7ecc1cc",
   "metadata": {},
   "outputs": [],
   "source": []
  }
 ],
 "metadata": {
  "kernelspec": {
   "display_name": "Python 3",
   "language": "python",
   "name": "python3"
  },
  "language_info": {
   "codemirror_mode": {
    "name": "ipython",
    "version": 3
   },
   "file_extension": ".py",
   "mimetype": "text/x-python",
   "name": "python",
   "nbconvert_exporter": "python",
   "pygments_lexer": "ipython3",
   "version": "3.8.8"
  }
 },
 "nbformat": 4,
 "nbformat_minor": 5
}
